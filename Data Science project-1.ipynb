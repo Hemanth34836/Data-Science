{
 "cells": [
  {
   "cell_type": "code",
   "execution_count": 1,
   "id": "5d4dbf96-ab6b-4992-ab61-dffd2b1f0d90",
   "metadata": {},
   "outputs": [
    {
     "data": {
      "text/html": [
       "<div>\n",
       "<style scoped>\n",
       "    .dataframe tbody tr th:only-of-type {\n",
       "        vertical-align: middle;\n",
       "    }\n",
       "\n",
       "    .dataframe tbody tr th {\n",
       "        vertical-align: top;\n",
       "    }\n",
       "\n",
       "    .dataframe thead th {\n",
       "        text-align: right;\n",
       "    }\n",
       "</style>\n",
       "<table border=\"1\" class=\"dataframe\">\n",
       "  <thead>\n",
       "    <tr style=\"text-align: right;\">\n",
       "      <th></th>\n",
       "      <th>Transaction ID</th>\n",
       "      <th>Date</th>\n",
       "      <th>Product Category</th>\n",
       "      <th>Product Name</th>\n",
       "      <th>Units Sold</th>\n",
       "      <th>Unit Price</th>\n",
       "      <th>Total Revenue</th>\n",
       "      <th>Region</th>\n",
       "      <th>Payment Method</th>\n",
       "    </tr>\n",
       "  </thead>\n",
       "  <tbody>\n",
       "    <tr>\n",
       "      <th>0</th>\n",
       "      <td>10001</td>\n",
       "      <td>01-01-2024</td>\n",
       "      <td>Electronics</td>\n",
       "      <td>iPhone 14 Pro</td>\n",
       "      <td>2</td>\n",
       "      <td>999.99</td>\n",
       "      <td>1999.98</td>\n",
       "      <td>North America</td>\n",
       "      <td>Credit Card</td>\n",
       "    </tr>\n",
       "    <tr>\n",
       "      <th>1</th>\n",
       "      <td>10002</td>\n",
       "      <td>02-01-2024</td>\n",
       "      <td>Home Appliances</td>\n",
       "      <td>Dyson V11 Vacuum</td>\n",
       "      <td>1</td>\n",
       "      <td>499.99</td>\n",
       "      <td>499.99</td>\n",
       "      <td>Europe</td>\n",
       "      <td>PayPal</td>\n",
       "    </tr>\n",
       "    <tr>\n",
       "      <th>2</th>\n",
       "      <td>10003</td>\n",
       "      <td>03-01-2024</td>\n",
       "      <td>Clothing</td>\n",
       "      <td>Levi's 501 Jeans</td>\n",
       "      <td>3</td>\n",
       "      <td>69.99</td>\n",
       "      <td>209.97</td>\n",
       "      <td>Asia</td>\n",
       "      <td>Debit Card</td>\n",
       "    </tr>\n",
       "    <tr>\n",
       "      <th>3</th>\n",
       "      <td>10004</td>\n",
       "      <td>04-01-2024</td>\n",
       "      <td>Books</td>\n",
       "      <td>The Da Vinci Code</td>\n",
       "      <td>4</td>\n",
       "      <td>15.99</td>\n",
       "      <td>63.96</td>\n",
       "      <td>North America</td>\n",
       "      <td>Credit Card</td>\n",
       "    </tr>\n",
       "    <tr>\n",
       "      <th>4</th>\n",
       "      <td>10005</td>\n",
       "      <td>05-01-2024</td>\n",
       "      <td>Beauty Products</td>\n",
       "      <td>Neutrogena Skincare Set</td>\n",
       "      <td>1</td>\n",
       "      <td>89.99</td>\n",
       "      <td>89.99</td>\n",
       "      <td>Europe</td>\n",
       "      <td>PayPal</td>\n",
       "    </tr>\n",
       "  </tbody>\n",
       "</table>\n",
       "</div>"
      ],
      "text/plain": [
       "   Transaction ID        Date Product Category             Product Name  \\\n",
       "0           10001  01-01-2024      Electronics            iPhone 14 Pro   \n",
       "1           10002  02-01-2024  Home Appliances         Dyson V11 Vacuum   \n",
       "2           10003  03-01-2024         Clothing         Levi's 501 Jeans   \n",
       "3           10004  04-01-2024            Books        The Da Vinci Code   \n",
       "4           10005  05-01-2024  Beauty Products  Neutrogena Skincare Set   \n",
       "\n",
       "   Units Sold  Unit Price  Total Revenue         Region Payment Method  \n",
       "0           2      999.99        1999.98  North America    Credit Card  \n",
       "1           1      499.99         499.99         Europe         PayPal  \n",
       "2           3       69.99         209.97           Asia     Debit Card  \n",
       "3           4       15.99          63.96  North America    Credit Card  \n",
       "4           1       89.99          89.99         Europe         PayPal  "
      ]
     },
     "execution_count": 1,
     "metadata": {},
     "output_type": "execute_result"
    }
   ],
   "source": [
    "import numpy as np\n",
    "import pandas as pd\n",
    "import seaborn as sns\n",
    "df=pd.read_csv(\"Online Sales Data.csv\")\n",
    "df.head()"
   ]
  },
  {
   "cell_type": "code",
   "execution_count": 2,
   "id": "ebf49cbf-a2a2-4402-853c-3a229a14319a",
   "metadata": {},
   "outputs": [
    {
     "data": {
      "text/plain": [
       "(240, 9)"
      ]
     },
     "execution_count": 2,
     "metadata": {},
     "output_type": "execute_result"
    }
   ],
   "source": [
    "df.shape"
   ]
  },
  {
   "cell_type": "code",
   "execution_count": 3,
   "id": "592e9c90-5f14-4360-a72f-3cda391e46c3",
   "metadata": {},
   "outputs": [
    {
     "data": {
      "text/html": [
       "<div>\n",
       "<style scoped>\n",
       "    .dataframe tbody tr th:only-of-type {\n",
       "        vertical-align: middle;\n",
       "    }\n",
       "\n",
       "    .dataframe tbody tr th {\n",
       "        vertical-align: top;\n",
       "    }\n",
       "\n",
       "    .dataframe thead th {\n",
       "        text-align: right;\n",
       "    }\n",
       "</style>\n",
       "<table border=\"1\" class=\"dataframe\">\n",
       "  <thead>\n",
       "    <tr style=\"text-align: right;\">\n",
       "      <th></th>\n",
       "      <th>Transaction ID</th>\n",
       "      <th>Units Sold</th>\n",
       "      <th>Unit Price</th>\n",
       "      <th>Total Revenue</th>\n",
       "    </tr>\n",
       "  </thead>\n",
       "  <tbody>\n",
       "    <tr>\n",
       "      <th>count</th>\n",
       "      <td>240.00000</td>\n",
       "      <td>240.000000</td>\n",
       "      <td>240.000000</td>\n",
       "      <td>240.000000</td>\n",
       "    </tr>\n",
       "    <tr>\n",
       "      <th>mean</th>\n",
       "      <td>10120.50000</td>\n",
       "      <td>2.158333</td>\n",
       "      <td>236.395583</td>\n",
       "      <td>335.699375</td>\n",
       "    </tr>\n",
       "    <tr>\n",
       "      <th>std</th>\n",
       "      <td>69.42622</td>\n",
       "      <td>1.322454</td>\n",
       "      <td>429.446695</td>\n",
       "      <td>485.804469</td>\n",
       "    </tr>\n",
       "    <tr>\n",
       "      <th>min</th>\n",
       "      <td>10001.00000</td>\n",
       "      <td>1.000000</td>\n",
       "      <td>6.500000</td>\n",
       "      <td>6.500000</td>\n",
       "    </tr>\n",
       "    <tr>\n",
       "      <th>25%</th>\n",
       "      <td>10060.75000</td>\n",
       "      <td>1.000000</td>\n",
       "      <td>29.500000</td>\n",
       "      <td>62.965000</td>\n",
       "    </tr>\n",
       "    <tr>\n",
       "      <th>50%</th>\n",
       "      <td>10120.50000</td>\n",
       "      <td>2.000000</td>\n",
       "      <td>89.990000</td>\n",
       "      <td>179.970000</td>\n",
       "    </tr>\n",
       "    <tr>\n",
       "      <th>75%</th>\n",
       "      <td>10180.25000</td>\n",
       "      <td>3.000000</td>\n",
       "      <td>249.990000</td>\n",
       "      <td>399.225000</td>\n",
       "    </tr>\n",
       "    <tr>\n",
       "      <th>max</th>\n",
       "      <td>10240.00000</td>\n",
       "      <td>10.000000</td>\n",
       "      <td>3899.990000</td>\n",
       "      <td>3899.990000</td>\n",
       "    </tr>\n",
       "  </tbody>\n",
       "</table>\n",
       "</div>"
      ],
      "text/plain": [
       "       Transaction ID  Units Sold   Unit Price  Total Revenue\n",
       "count       240.00000  240.000000   240.000000     240.000000\n",
       "mean      10120.50000    2.158333   236.395583     335.699375\n",
       "std          69.42622    1.322454   429.446695     485.804469\n",
       "min       10001.00000    1.000000     6.500000       6.500000\n",
       "25%       10060.75000    1.000000    29.500000      62.965000\n",
       "50%       10120.50000    2.000000    89.990000     179.970000\n",
       "75%       10180.25000    3.000000   249.990000     399.225000\n",
       "max       10240.00000   10.000000  3899.990000    3899.990000"
      ]
     },
     "execution_count": 3,
     "metadata": {},
     "output_type": "execute_result"
    }
   ],
   "source": [
    "df.describe()\n"
   ]
  },
  {
   "cell_type": "code",
   "execution_count": 4,
   "id": "a655457d-b62c-4697-b834-c484ad209c3c",
   "metadata": {},
   "outputs": [
    {
     "name": "stdout",
     "output_type": "stream",
     "text": [
      "<class 'pandas.core.frame.DataFrame'>\n",
      "RangeIndex: 240 entries, 0 to 239\n",
      "Data columns (total 9 columns):\n",
      " #   Column            Non-Null Count  Dtype  \n",
      "---  ------            --------------  -----  \n",
      " 0   Transaction ID    240 non-null    int64  \n",
      " 1   Date              240 non-null    object \n",
      " 2   Product Category  240 non-null    object \n",
      " 3   Product Name      240 non-null    object \n",
      " 4   Units Sold        240 non-null    int64  \n",
      " 5   Unit Price        240 non-null    float64\n",
      " 6   Total Revenue     240 non-null    float64\n",
      " 7   Region            240 non-null    object \n",
      " 8   Payment Method    240 non-null    object \n",
      "dtypes: float64(2), int64(2), object(5)\n",
      "memory usage: 17.0+ KB\n"
     ]
    }
   ],
   "source": [
    "df.info()"
   ]
  },
  {
   "cell_type": "code",
   "execution_count": 5,
   "id": "f0516794-87f4-489a-9c90-f9898efed188",
   "metadata": {},
   "outputs": [
    {
     "data": {
      "text/plain": [
       "Transaction ID      0\n",
       "Date                0\n",
       "Product Category    0\n",
       "Product Name        0\n",
       "Units Sold          0\n",
       "Unit Price          0\n",
       "Total Revenue       0\n",
       "Region              0\n",
       "Payment Method      0\n",
       "dtype: int64"
      ]
     },
     "execution_count": 5,
     "metadata": {},
     "output_type": "execute_result"
    }
   ],
   "source": [
    "pd.isnull(df).sum()"
   ]
  },
  {
   "cell_type": "markdown",
   "id": "1b6cd866-db83-4d1d-ae89-df84236b7601",
   "metadata": {},
   "source": [
    "Exploratory data analysis"
   ]
  },
  {
   "cell_type": "code",
   "execution_count": 38,
   "id": "0543420f-2905-4e61-a9a9-6c9ebf1ab98c",
   "metadata": {},
   "outputs": [
    {
     "data": {
      "image/png": "[encoded data removed]",
      "text/plain": [
       "<Figure size 1500x500 with 1 Axes>"
      ]
     },
     "metadata": {},
     "output_type": "display_data"
    }
   ],
   "source": [
    "ax=sns.countplot(x='Product Category',data=df)\n",
    "sns.set(rc={'figure.figsize':(20,5)})\n",
    "for bars in ax.containers:\n",
    "    ax.bar_label(bars)"
   ]
  },
  {
   "cell_type": "code",
   "execution_count": 8,
   "id": "1494de78-3323-42de-99e2-8c7d3484b228",
   "metadata": {},
   "outputs": [
    {
     "data": {
      "text/plain": [
       "<Axes: xlabel='Product Category', ylabel='Unit Price'>"
      ]
     },
     "execution_count": 8,
     "metadata": {},
     "output_type": "execute_result"
    },
    {
     "data": {
      "image/png": "[encoded data removed]",
      "text/plain": [
       "<Figure size 1500x500 with 1 Axes>"
      ]
     },
     "metadata": {},
     "output_type": "display_data"
    }
   ],
   "source": [
    "sns_data=df.groupby(['Product Category'],as_index=False)['Unit Price'].sum().sort_values(by='Unit Price',ascending=False)\n",
    "sns.set(rc={'figure.figsize':(15,5)})\n",
    "sns.barplot(x='Product Category',y='Unit Price',data=sns_data)"
   ]
  },
  {
   "cell_type": "code",
   "execution_count": 9,
   "id": "0fbbf6aa-a5d9-42fb-9a5d-b6178c906587",
   "metadata": {},
   "outputs": [
    {
     "data": {
      "text/plain": [
       "<Axes: xlabel='Product Category', ylabel='Units Sold'>"
      ]
     },
     "execution_count": 9,
     "metadata": {},
     "output_type": "execute_result"
    },
    {
     "data": {
      "image/png": "[encoded data removed]",
      "text/plain": [
       "<Figure size 1500x500 with 1 Axes>"
      ]
     },
     "metadata": {},
     "output_type": "display_data"
    }
   ],
   "source": [
    "sns_data=df.groupby(['Product Category'],as_index=False)['Units Sold'].sum().sort_values(by='Units Sold',ascending=False)\n",
    "sns.set(rc={'figure.figsize':(15,5)})\n",
    "sns.barplot(x='Product Category',y='Units Sold',data=sns_data)"
   ]
  },
  {
   "cell_type": "code",
   "execution_count": 10,
   "id": "ba9a25d6-fe35-44a8-a11a-37ae20e99619",
   "metadata": {},
   "outputs": [
    {
     "data": {
      "text/plain": [
       "<Axes: xlabel='Region', ylabel='Total Revenue'>"
      ]
     },
     "execution_count": 10,
     "metadata": {},
     "output_type": "execute_result"
    },
    {
     "data": {
      "image/png": "[encoded data removed]",
      "text/plain": [
       "<Figure size 1500x500 with 1 Axes>"
      ]
     },
     "metadata": {},
     "output_type": "display_data"
    }
   ],
   "source": [
    "sns_data=df.groupby(['Region'],as_index=False)['Total Revenue'].sum().sort_values(by='Total Revenue',ascending=False)\n",
    "sns.set(rc={'figure.figsize':(15,5)})\n",
    "sns.barplot(x='Region',y='Total Revenue',data=sns_data)"
   ]
  },
  {
   "cell_type": "code",
   "execution_count": 11,
   "id": "d43d4f28-24f6-4af9-a786-9395168acec1",
   "metadata": {},
   "outputs": [
    {
     "data": {
      "text/plain": [
       "<Axes: xlabel='Region', ylabel='Units Sold'>"
      ]
     },
     "execution_count": 11,
     "metadata": {},
     "output_type": "execute_result"
    },
    {
     "data": {
      "image/png": "[encoded data removed]",
      "text/plain": [
       "<Figure size 1500x500 with 1 Axes>"
      ]
     },
     "metadata": {},
     "output_type": "display_data"
    }
   ],
   "source": [
    "sns_data=df.groupby(['Region'],as_index=False)['Units Sold'].sum().sort_values(by='Units Sold',ascending=False)\n",
    "sns.set(rc={'figure.figsize':(15,5)})\n",
    "sns.barplot(x='Region',y='Units Sold',data=sns_data)"
   ]
  },
  {
   "cell_type": "markdown",
   "id": "67cb0c2b-1f22-4543-b7dc-743f415e7c78",
   "metadata": {},
   "source": [
    "Insights-\n",
    "In product Category,the sales is more in electronics,units sold is more in clothing\n",
    "In regionwise the total revenue is more in North america,units sold is more in asia"
   ]
  },
  {
   "cell_type": "code",
   "execution_count": 13,
   "id": "4d229299-bec1-4de4-a336-a9c3c5106676",
   "metadata": {},
   "outputs": [],
   "source": [
    "from sklearn.preprocessing import LabelEncoder\n",
    "df['Product Name']=LabelEncoder().fit_transform(df['Product Name'])"
   ]
  },
  {
   "cell_type": "code",
   "execution_count": 14,
   "id": "44d1c110-4ee0-46d1-9bf1-ce99b67aaabc",
   "metadata": {},
   "outputs": [],
   "source": [
    "from sklearn.preprocessing import LabelEncoder\n",
    "df['Product Category']=LabelEncoder().fit_transform(df['Product Category'])"
   ]
  },
  {
   "cell_type": "code",
   "execution_count": 15,
   "id": "b986567e-747a-4fec-8b44-32f547f164d8",
   "metadata": {},
   "outputs": [],
   "source": [
    "from sklearn.preprocessing import LabelEncoder\n",
    "df['Region']=LabelEncoder().fit_transform(df['Region'])"
   ]
  },
  {
   "cell_type": "code",
   "execution_count": 16,
   "id": "77834748-6ca0-4ac9-8a30-048ae591f671",
   "metadata": {},
   "outputs": [],
   "source": [
    "from sklearn.preprocessing import LabelEncoder\n",
    "df['Payment Method']=LabelEncoder().fit_transform(df['Payment Method'])"
   ]
  },
  {
   "cell_type": "code",
   "execution_count": 17,
   "id": "d8b4f652-5242-4e40-a282-48746d998f36",
   "metadata": {},
   "outputs": [],
   "source": [
    "X=df.iloc[:,0:-1].values\n",
    "y=df.iloc[:,-3].values"
   ]
  },
  {
   "cell_type": "code",
   "execution_count": 18,
   "id": "efe9629b-9db1-411b-a96b-b94911e4e71a",
   "metadata": {},
   "outputs": [
    {
     "data": {
      "text/plain": [
       "array([[10001, '01-01-2024', 3, ..., 999.99, 1999.98, 2],\n",
       "       [10002, '02-01-2024', 4, ..., 499.99, 499.99, 1],\n",
       "       [10003, '03-01-2024', 2, ..., 69.99, 209.97, 0],\n",
       "       ...,\n",
       "       [10238, '25-08-2024', 1, ..., 10.99, 32.97, 2],\n",
       "       [10239, '26-08-2024', 0, ..., 55.0, 55.0, 1],\n",
       "       [10240, '27-08-2024', 5, ..., 29.99, 59.98, 0]], dtype=object)"
      ]
     },
     "execution_count": 18,
     "metadata": {},
     "output_type": "execute_result"
    }
   ],
   "source": [
    "X"
   ]
  },
  {
   "cell_type": "code",
   "execution_count": 20,
   "id": "0b154c41-f1d0-4615-89a8-f762b5c79e97",
   "metadata": {},
   "outputs": [],
   "source": [
    "from sklearn.model_selection import train_test_split\n",
    "features=[\"Product Category\", \"Product Name\",\"Unit Price\", \"Units Sold\",\"Region\"]\n",
    "X=df[features]\n",
    "y=df.iloc[:,-3].values\n",
    "train_X, test_X, train_y, test_y = train_test_split(X, y,random_state = 0)"
   ]
  },
  {
   "cell_type": "code",
   "execution_count": 22,
   "id": "c50a5c8e-1c72-40ce-90f2-1b0b7f71c41e",
   "metadata": {},
   "outputs": [
    {
     "name": "stdout",
     "output_type": "stream",
     "text": [
      "Mean Absolute Error: 100.395782\n",
      "0.7718244414568766\n"
     ]
    }
   ],
   "source": [
    "from sklearn.linear_model import LinearRegression\n",
    "from sklearn.metrics import mean_absolute_error,r2_score\n",
    "\n",
    "model1=LinearRegression()\n",
    "model1.fit(train_X, train_y)\n",
    "pred1=model1.predict(test_X)\n",
    "print(\"Mean Absolute Error: %f\" %(mean_absolute_error(test_y, pred1)))\n",
    "print(r2_score(test_y,pred1))"
   ]
  },
  {
   "cell_type": "code",
   "execution_count": 24,
   "id": "120103c0-6cf9-4e8c-8d6c-cc463c53640c",
   "metadata": {},
   "outputs": [],
   "source": [
    "import matplotlib"
   ]
  },
  {
   "cell_type": "code",
   "execution_count": 30,
   "id": "108c86ae-ccb4-4150-8d20-de6f2352b41b",
   "metadata": {},
   "outputs": [
    {
     "data": {
      "text/plain": [
       "Text(0, 0.5, 'test_y')"
      ]
     },
     "execution_count": 30,
     "metadata": {},
     "output_type": "execute_result"
    },
    {
     "data": {
      "image/png": "[encoded data removed]",
      "text/plain": [
       "<Figure size 1500x500 with 1 Axes>"
      ]
     },
     "metadata": {},
     "output_type": "display_data"
    }
   ],
   "source": [
    "matplotlib.pyplot.scatter(test_y,pred1)\n",
    "matplotlib.pyplot.xlabel('prediction')\n",
    "matplotlib.pyplot.ylabel('test_y')"
   ]
  },
  {
   "cell_type": "code",
   "execution_count": 32,
   "id": "51c30e46-db85-4b50-95b7-077334e39ad3",
   "metadata": {},
   "outputs": [
    {
     "data": {
      "text/plain": [
       "array([25.94793242, -0.21926555,  1.03320141, 45.63622548, 20.42743339])"
      ]
     },
     "execution_count": 32,
     "metadata": {},
     "output_type": "execute_result"
    }
   ],
   "source": [
    "model1.coef_"
   ]
  },
  {
   "cell_type": "code",
   "execution_count": 34,
   "id": "00703a82-a267-4097-91b5-3d6f5cfeaab7",
   "metadata": {},
   "outputs": [
    {
     "data": {
      "text/html": [
       "<div>\n",
       "<style scoped>\n",
       "    .dataframe tbody tr th:only-of-type {\n",
       "        vertical-align: middle;\n",
       "    }\n",
       "\n",
       "    .dataframe tbody tr th {\n",
       "        vertical-align: top;\n",
       "    }\n",
       "\n",
       "    .dataframe thead th {\n",
       "        text-align: right;\n",
       "    }\n",
       "</style>\n",
       "<table border=\"1\" class=\"dataframe\">\n",
       "  <thead>\n",
       "    <tr style=\"text-align: right;\">\n",
       "      <th></th>\n",
       "      <th>Product Category</th>\n",
       "      <th>Product Name</th>\n",
       "      <th>Unit Price</th>\n",
       "      <th>Units Sold</th>\n",
       "      <th>Region</th>\n",
       "    </tr>\n",
       "  </thead>\n",
       "  <tbody>\n",
       "    <tr>\n",
       "      <th>0</th>\n",
       "      <td>3</td>\n",
       "      <td>230</td>\n",
       "      <td>999.99</td>\n",
       "      <td>2</td>\n",
       "      <td>2</td>\n",
       "    </tr>\n",
       "    <tr>\n",
       "      <th>1</th>\n",
       "      <td>4</td>\n",
       "      <td>59</td>\n",
       "      <td>499.99</td>\n",
       "      <td>1</td>\n",
       "      <td>1</td>\n",
       "    </tr>\n",
       "    <tr>\n",
       "      <th>2</th>\n",
       "      <td>2</td>\n",
       "      <td>115</td>\n",
       "      <td>69.99</td>\n",
       "      <td>3</td>\n",
       "      <td>0</td>\n",
       "    </tr>\n",
       "    <tr>\n",
       "      <th>3</th>\n",
       "      <td>1</td>\n",
       "      <td>182</td>\n",
       "      <td>15.99</td>\n",
       "      <td>4</td>\n",
       "      <td>2</td>\n",
       "    </tr>\n",
       "    <tr>\n",
       "      <th>4</th>\n",
       "      <td>0</td>\n",
       "      <td>131</td>\n",
       "      <td>89.99</td>\n",
       "      <td>1</td>\n",
       "      <td>1</td>\n",
       "    </tr>\n",
       "    <tr>\n",
       "      <th>...</th>\n",
       "      <td>...</td>\n",
       "      <td>...</td>\n",
       "      <td>...</td>\n",
       "      <td>...</td>\n",
       "      <td>...</td>\n",
       "    </tr>\n",
       "    <tr>\n",
       "      <th>235</th>\n",
       "      <td>4</td>\n",
       "      <td>128</td>\n",
       "      <td>159.99</td>\n",
       "      <td>1</td>\n",
       "      <td>1</td>\n",
       "    </tr>\n",
       "    <tr>\n",
       "      <th>236</th>\n",
       "      <td>2</td>\n",
       "      <td>133</td>\n",
       "      <td>90.00</td>\n",
       "      <td>3</td>\n",
       "      <td>0</td>\n",
       "    </tr>\n",
       "    <tr>\n",
       "      <th>237</th>\n",
       "      <td>1</td>\n",
       "      <td>189</td>\n",
       "      <td>10.99</td>\n",
       "      <td>3</td>\n",
       "      <td>2</td>\n",
       "    </tr>\n",
       "    <tr>\n",
       "      <th>238</th>\n",
       "      <td>0</td>\n",
       "      <td>175</td>\n",
       "      <td>55.00</td>\n",
       "      <td>1</td>\n",
       "      <td>1</td>\n",
       "    </tr>\n",
       "    <tr>\n",
       "      <th>239</th>\n",
       "      <td>5</td>\n",
       "      <td>223</td>\n",
       "      <td>29.99</td>\n",
       "      <td>2</td>\n",
       "      <td>0</td>\n",
       "    </tr>\n",
       "  </tbody>\n",
       "</table>\n",
       "<p>240 rows × 5 columns</p>\n",
       "</div>"
      ],
      "text/plain": [
       "     Product Category  Product Name  Unit Price  Units Sold  Region\n",
       "0                   3           230      999.99           2       2\n",
       "1                   4            59      499.99           1       1\n",
       "2                   2           115       69.99           3       0\n",
       "3                   1           182       15.99           4       2\n",
       "4                   0           131       89.99           1       1\n",
       "..                ...           ...         ...         ...     ...\n",
       "235                 4           128      159.99           1       1\n",
       "236                 2           133       90.00           3       0\n",
       "237                 1           189       10.99           3       2\n",
       "238                 0           175       55.00           1       1\n",
       "239                 5           223       29.99           2       0\n",
       "\n",
       "[240 rows x 5 columns]"
      ]
     },
     "execution_count": 34,
     "metadata": {},
     "output_type": "execute_result"
    }
   ],
   "source": [
    "X"
   ]
  },
  {
   "cell_type": "code",
   "execution_count": 36,
   "id": "3a12dca1-cd5f-4bdd-823b-947d3411ada5",
   "metadata": {},
   "outputs": [
    {
     "data": {
      "text/html": [
       "<div>\n",
       "<style scoped>\n",
       "    .dataframe tbody tr th:only-of-type {\n",
       "        vertical-align: middle;\n",
       "    }\n",
       "\n",
       "    .dataframe tbody tr th {\n",
       "        vertical-align: top;\n",
       "    }\n",
       "\n",
       "    .dataframe thead th {\n",
       "        text-align: right;\n",
       "    }\n",
       "</style>\n",
       "<table border=\"1\" class=\"dataframe\">\n",
       "  <thead>\n",
       "    <tr style=\"text-align: right;\">\n",
       "      <th></th>\n",
       "      <th>Coefficient</th>\n",
       "    </tr>\n",
       "  </thead>\n",
       "  <tbody>\n",
       "    <tr>\n",
       "      <th>Product Category</th>\n",
       "      <td>25.947932</td>\n",
       "    </tr>\n",
       "    <tr>\n",
       "      <th>Product Name</th>\n",
       "      <td>-0.219266</td>\n",
       "    </tr>\n",
       "    <tr>\n",
       "      <th>Unit Price</th>\n",
       "      <td>1.033201</td>\n",
       "    </tr>\n",
       "    <tr>\n",
       "      <th>Units Sold</th>\n",
       "      <td>45.636225</td>\n",
       "    </tr>\n",
       "    <tr>\n",
       "      <th>Region</th>\n",
       "      <td>20.427433</td>\n",
       "    </tr>\n",
       "  </tbody>\n",
       "</table>\n",
       "</div>"
      ],
      "text/plain": [
       "                  Coefficient\n",
       "Product Category    25.947932\n",
       "Product Name        -0.219266\n",
       "Unit Price           1.033201\n",
       "Units Sold          45.636225\n",
       "Region              20.427433"
      ]
     },
     "execution_count": 36,
     "metadata": {},
     "output_type": "execute_result"
    }
   ],
   "source": [
    "pd.DataFrame(model1.coef_,X.columns,columns=['Coefficient'])"
   ]
  },
  {
   "cell_type": "code",
   "execution_count": null,
   "id": "9023f636-f458-4462-add9-22dcca5a3970",
   "metadata": {},
   "outputs": [],
   "source": []
  }
 ],
 "metadata": {
  "kernelspec": {
   "display_name": "Python 3 (ipykernel)",
   "language": "python",
   "name": "python3"
  },
  "language_info": {
   "codemirror_mode": {
    "name": "ipython",
    "version": 3
   },
   "file_extension": ".py",
   "mimetype": "text/x-python",
   "name": "python",
   "nbconvert_exporter": "python",
   "pygments_lexer": "ipython3",
   "version": "3.12.4"
  }
 },
 "nbformat": 4,
 "nbformat_minor": 5
}
